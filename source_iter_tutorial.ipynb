{
  "nbformat": 4,
  "nbformat_minor": 0,
  "metadata": {
    "colab": {
      "provenance": [],
      "authorship_tag": "ABX9TyOxk+OCszCS0hcbHTmNiHy5",
      "include_colab_link": true
    },
    "kernelspec": {
      "name": "python3",
      "display_name": "Python 3"
    },
    "language_info": {
      "name": "python"
    }
  },
  "cells": [
    {
      "cell_type": "markdown",
      "metadata": {
        "id": "view-in-github",
        "colab_type": "text"
      },
      "source": [
        "<a href=\"https://colab.research.google.com/github/nicolay-r/source-iter/blob/master/source_iter_tutorial.ipynb\" target=\"_parent\"><img src=\"https://colab.research.google.com/assets/colab-badge.svg\" alt=\"Open In Colab\"/></a>"
      ]
    },
    {
      "cell_type": "code",
      "execution_count": null,
      "metadata": {
        "id": "fMUXqwNAG-sF"
      },
      "outputs": [],
      "source": [
        "!pip install git+https://github.com/nicolay-r/source-iter"
      ]
    },
    {
      "cell_type": "code",
      "source": [
        "!wget https://raw.githubusercontent.com/nicolay-r/source-iter/refs/heads/master/test/data/sample.csv"
      ],
      "metadata": {
        "collapsed": true,
        "id": "cWZ0_B-yI6X9"
      },
      "execution_count": null,
      "outputs": []
    },
    {
      "cell_type": "code",
      "source": [
        "from source_iter.service_csv import CsvService\n",
        "\n",
        "src = \"sample.csv\"\n",
        "for line in CsvService.read(src, skip_header=True, as_dict=True, delimiter=\"\\t\"):\n",
        "    print(line)"
      ],
      "metadata": {
        "colab": {
          "base_uri": "https://localhost:8080/"
        },
        "id": "v3cFge9IIIzx",
        "outputId": "2c0b488f-becf-498c-f916-b837000af1e6"
      },
      "execution_count": 9,
      "outputs": [
        {
          "output_type": "stream",
          "name": "stdout",
          "text": [
            "{'sentence': 'X invent sanctions against Y', 'entity': 'X'}\n"
          ]
        }
      ]
    }
  ]
}